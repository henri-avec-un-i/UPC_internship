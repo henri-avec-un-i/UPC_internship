{
 "cells": [
  {
   "cell_type": "code",
   "execution_count": 5,
   "metadata": {},
   "outputs": [],
   "source": [
    "import numpy as np\n",
    "import copy\n",
    "from scipy.optimize import fsolve\n",
    "import matplotlib.pyplot as plt\n",
    "import matplotlib.ticker as ticker\n",
    "import matplotlib.colors as colors"
   ]
  },
  {
   "attachments": {},
   "cell_type": "markdown",
   "metadata": {},
   "source": [
    "# Utility functions\n"
   ]
  },
  {
   "cell_type": "code",
   "execution_count": 6,
   "metadata": {},
   "outputs": [],
   "source": [
    "def list_generator(Value_min, Value_max, Number_of_points = 1000):\n",
    "    return np.linspace(Value_min, Value_max, Number_of_points)\n"
   ]
  },
  {
   "attachments": {},
   "cell_type": "markdown",
   "metadata": {},
   "source": [
    "# RHEA Thermodynamic calculator"
   ]
  },
  {
   "attachments": {},
   "cell_type": "markdown",
   "metadata": {},
   "source": [
    "# Case study of different substances"
   ]
  },
  {
   "attachments": {},
   "cell_type": "markdown",
   "metadata": {},
   "source": [
    "## Dimensionless numbers computation functions"
   ]
  },
  {
   "cell_type": "code",
   "execution_count": 8,
   "metadata": {},
   "outputs": [],
   "source": [
    "def calculate_reynolds_number(U, L, nu):\n",
    "    \"\"\"\n",
    "    Calculate the Reynolds number for a given flow.\n",
    "\n",
    "    Args:\n",
    "        U (float): Velocity of the flow (in m/s).\n",
    "        L (float): Characteristic length (in meters).\n",
    "        nu (float): Kinematic viscosity (in m^2/s).\n",
    "\n",
    "    Returns:\n",
    "        float: The Reynolds number.\n",
    "\n",
    "    \"\"\"\n",
    "    # Calculate the Reynolds number using the formula: Re = (U * L) / nu\n",
    "    Re = (U * L) / nu\n",
    "\n",
    "    # Return the Reynolds number\n",
    "    return Re\n",
    "\n",
    "def calculate_eckert_number(U, c_p, delta_T):\n",
    "    \"\"\"\n",
    "    Calculate the Eckert number for a given flow.\n",
    "\n",
    "    Args:\n",
    "        U (float): Velocity of the flow (in m/s).\n",
    "        c_p (float): Specific heat capacity at constant pressure (in J/(kg*K)).\n",
    "        delta_T (float): Temperature difference (in K).\n",
    "\n",
    "    Returns:\n",
    "        float: The Eckert number.\n",
    "\n",
    "    \"\"\"\n",
    "    # Calculate the Eckert number using the formula: Ec = U^2 / (c_p * delta_T)\n",
    "    Ec = (U ** 2) / (c_p * delta_T)\n",
    "\n",
    "    # Return the Eckert number\n",
    "    return Ec\n",
    "\n",
    "def calculate_prandtl_number(mu, c_p, kappa):\n",
    "    \"\"\"\n",
    "    Calculate the Prandtl number for a given fluid.\n",
    "\n",
    "    Args:\n",
    "        mu (float): Dynamic viscosity of the fluid (in kg/(m*s)).\n",
    "        c_p (float): Specific heat capacity at constant pressure (in J/(kg*K)).\n",
    "        kappa (float): Thermal conductivity of the fluid (in W/(m*K)).\n",
    "\n",
    "    Returns:\n",
    "        float: The Prandtl number.\n",
    "\n",
    "    \"\"\"\n",
    "    # Calculate the Prandtl number using the formula: Pr = mu * c_p / kappa\n",
    "    Pr = mu * c_p / kappa\n",
    "\n",
    "    # Return the Prandtl number\n",
    "    return Pr\n",
    "\n",
    "def calculate_froude_number(U, L, g = 9.81):\n",
    "    \"\"\"\n",
    "    Calculate the Froude number for a given flow.\n",
    "\n",
    "    Args:\n",
    "        U (float): Velocity of the flow (in m/s).\n",
    "        g (float): Gravitational acceleration (in m/s^2).\n",
    "        L (float): Characteristic length of the flow (in meters).\n",
    "\n",
    "    Returns:\n",
    "        float: The Froude number.\n",
    "\n",
    "    \"\"\"\n",
    "    # Calculate the Froude number using the formula: Fr = U / sqrt(g * L)\n",
    "    Fr = U / ((g * L) ** 0.5)\n",
    "\n",
    "    # Return the Froude number\n",
    "    return Fr\n",
    "\n",
    "\n",
    "def calculate_mach_number(U, sos):\n",
    "    \"\"\"\n",
    "    Calculate the Mach number for a given flow.\n",
    "\n",
    "    Args:\n",
    "        U (float): Velocity of the flow (in m/s).\n",
    "        sos (float): Speed of sound in the medium (in m/s).\n",
    "\n",
    "    Returns:\n",
    "        float: The Mach number.\n",
    "\n",
    "    \"\"\"\n",
    "    # Calculate the Mach number using the formula: Ma = U / sos\n",
    "    Ma = U / sos\n",
    "\n",
    "    # Return the Mach number\n",
    "    return Ma\n"
   ]
  },
  {
   "attachments": {},
   "cell_type": "markdown",
   "metadata": {},
   "source": [
    "## Study of N2"
   ]
  },
  {
   "cell_type": "code",
   "execution_count": 9,
   "metadata": {},
   "outputs": [],
   "source": [
    "#T and P ranges to investigates, modify as desired\n",
    "P_min, P_max = 1, 1e3\n",
    "P_number_of_points = 1000\n",
    "\n",
    "T_min, T_max = 1, 1e3\n",
    "T_number_of_points = 1000\n",
    "\n",
    "P_list = list_generator(P_min, P_max, P_number_of_points) #in bars\n",
    "T_list = list_generator( T_min, T_max, T_number_of_points) # in Celsius\n",
    "\n",
    "# Conversion to SI for T and P\n",
    "P_list = P_list * 1e5 #in Pascals\n",
    "T_list = T_list + 273.15 #in Kelvin\n",
    "\n",
    "#Defining flow parameters\n",
    "U = 1e0 # (in m/s).\n",
    "L = 1e-6 # in meters"
   ]
  },
  {
   "cell_type": "code",
   "execution_count": 12,
   "metadata": {},
   "outputs": [],
   "source": [
    "# Calculation of the various thermodynamic functions (rho, mu, kappa, c_p, sos...) using Peng-Robinson model as well as High-pressure gas model from Ouriol's code\n",
    "\n",
    "# Definition of constant for N2\n",
    "molecular_weight = 28.0134  # Molecular weight of N2 in g/mol\n",
    "acentric_factor = 0.0372  # Acentric factor of N2\n",
    "critical_temperature = 126.2  # Critical temperature of N2 in K\n",
    "critical_pressure = 3395800.0    # Critical pressure [Pa]\n",
    "critical_molar_volume = 0.000089412  # Critical molar volume [m3/mol]\n",
    "\n",
    "\n",
    "# NASA 7-coefficient polynomial (15 values)\n",
    "NASA_coefficients = np.array([ 2.952576370000000000000,\n",
    "                        0.001396900400000000000,\n",
    "                       -0.000000492631603000000,\n",
    "                        0.000000000078601019000,\n",
    "                       -0.000000000000004607552,\n",
    "                       -923.9486880000000000000,\n",
    "                        5.871887620000000000000,\n",
    "                        3.531005280000000000000,\n",
    "                       -0.000123660980000000000,\n",
    "                       -0.000000502999433000000,\n",
    "                        0.000000002435306120000,\n",
    "                       -0.000000000001408812400,\n",
    "                       -1046.976280000000000000,\n",
    "                        2.967470380000000000000,\n",
    "                        0.000000000000000000000])\n",
    "                       \n",
    "# Creation of a N2 gas objet, instance of Peng Robinson class\n",
    "n2_gas = PengRobinsonModel(\n",
    "    molecular_weight=molecular_weight,\n",
    "    acentric_factor=acentric_factor,\n",
    "    critical_temperature=critical_temperature,\n",
    "    critical_pressure=critical_pressure,\n",
    "    critical_molar_volume=critical_molar_volume,\n",
    "    NASA_coefficients=NASA_coefficients\n",
    "    \n",
    ")\n",
    "\n",
    "\n",
    "# Rho\n",
    "\n",
    "#Rho_list = \n",
    "\n",
    "# Mu\n",
    "\n",
    "# Kappa\n",
    "\n",
    "# C_p\n",
    "\n",
    "# Sos\n"
   ]
  },
  {
   "cell_type": "code",
   "execution_count": 32,
   "metadata": {},
   "outputs": [
    {
     "data": {
      "text/plain": [
       "1150.4914969928664"
      ]
     },
     "execution_count": 32,
     "metadata": {},
     "output_type": "execute_result"
    }
   ],
   "source": [
    "rho, e = n2_gas.calculateDensityInternalEnergyFromPressureTemperature(None, None, 1e5, 293)\n",
    "rho"
   ]
  },
  {
   "cell_type": "code",
   "execution_count": null,
   "metadata": {},
   "outputs": [],
   "source": []
  }
 ],
 "metadata": {
  "kernelspec": {
   "display_name": "Python 3",
   "language": "python",
   "name": "python3"
  },
  "language_info": {
   "codemirror_mode": {
    "name": "ipython",
    "version": 3
   },
   "file_extension": ".py",
   "mimetype": "text/x-python",
   "name": "python",
   "nbconvert_exporter": "python",
   "pygments_lexer": "ipython3",
   "version": "3.8.5"
  },
  "orig_nbformat": 4
 },
 "nbformat": 4,
 "nbformat_minor": 2
}
